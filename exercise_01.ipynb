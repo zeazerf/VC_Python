{
 "cells": [
  {
   "attachments": {},
   "cell_type": "markdown",
   "metadata": {},
   "source": [
    "# 1. Create a new ipynb file and anme it exercises_01\n",
    "# 2. Write a function that takes in a number and checks weather the number is odd or even and retun a string indicating that\n",
    "# 3. Write a function called is palindrome that takes in a string and checks wheather it is a palindrome and returns True or False. (You canuse google chorme)"
   ]
  },
  {
   "cell_type": "code",
   "execution_count": null,
   "metadata": {},
   "outputs": [],
   "source": [
    "#2. Write a function that takes in a number and checks weather the number is odd or even and retun a string indicating that\n",
    "\n",
    "def check_odd_even(number):\n",
    "    if number % 2 == 0:\n",
    "        return \"The number \" + str(number) + \" is even.\"\n",
    "    else:\n",
    "        return \"The number \" + str(number) + \" is odd.\"\n"
   ]
  }
 ],
 "metadata": {
  "language_info": {
   "name": "python"
  },
  "orig_nbformat": 4
 },
 "nbformat": 4,
 "nbformat_minor": 2
}
